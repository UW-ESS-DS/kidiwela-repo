{
 "cells": [
  {
   "cell_type": "markdown",
   "metadata": {},
   "source": [
    "# Homework 1 \n",
    "#### Author: Maleen Kidiwela\n",
    "\n",
    "This is my first Line\n",
    "\n",
    "This is my second Line"
   ]
  },
  {
   "cell_type": "code",
   "execution_count": 5,
   "metadata": {},
   "outputs": [
    {
     "name": "stdout",
     "output_type": "stream",
     "text": [
      "Hello World! What a Wonderfull World\n"
     ]
    }
   ],
   "source": [
    "New_World = \"Hello World! What a Wonderfull World\"\n",
    "print(New_World)"
   ]
  },
  {
   "cell_type": "markdown",
   "metadata": {},
   "source": [
    "Nice! it Printed What I want, let's do something slightly complex"
   ]
  },
  {
   "cell_type": "code",
   "execution_count": 4,
   "metadata": {},
   "outputs": [
    {
     "name": "stdout",
     "output_type": "stream",
     "text": [
      "                   * \r\n",
      "                  * * \r\n",
      "                 * * * \r\n",
      "                * * * * \r\n",
      "               * * * * * \r\n",
      "              * * * * * * \r\n",
      "             * * * * * * * \r\n",
      "            * * * * * * * * \r\n",
      "           * * * * * * * * * \r\n",
      "          * * * * * * * * * * \r\n",
      "         * * * * * * * * * * * \r\n",
      "        * * * * * * * * * * * * \r\n",
      "       * * * * * * * * * * * * * \r\n",
      "      * * * * * * * * * * * * * * \r\n",
      "     * * * * * * * * * * * * * * * \r\n",
      "    * * * * * * * * * * * * * * * * \r\n",
      "   * * * * * * * * * * * * * * * * * \r\n",
      "  * * * * * * * * * * * * * * * * * * \r\n",
      " * * * * * * * * * * * * * * * * * * * \r\n",
      "* * * * * * * * * * * * * * * * * * * * \r\n"
     ]
    }
   ],
   "source": [
    "def triangle(n):\n",
    "     \n",
    "    # number of spaces\n",
    "    k = n - 1\n",
    " \n",
    "    # outer loop to handle number of rows\n",
    "    for i in range(0, n):\n",
    "     \n",
    "        # inner loop to handle number spaces\n",
    "        # values changing acc. to requirement\n",
    "        for j in range(0, k):\n",
    "            print(end=\" \")\n",
    "     \n",
    "        # decrementing k after each loop\n",
    "        k = k - 1\n",
    "     \n",
    "        # inner loop to handle number of columns\n",
    "        # values changing acc. to outer loop\n",
    "        for j in range(0, i+1):\n",
    "         \n",
    "            # printing stars\n",
    "            print(\"* \", end=\"\")\n",
    "     \n",
    "        # ending line after each row\n",
    "        print(\"\\r\")\n",
    " \n",
    "# Driver Code\n",
    "n = 20\n",
    "triangle(n)"
   ]
  },
  {
   "cell_type": "code",
   "execution_count": null,
   "metadata": {},
   "outputs": [],
   "source": []
  }
 ],
 "metadata": {
  "kernelspec": {
   "display_name": "Python 3",
   "language": "python",
   "name": "python3"
  },
  "language_info": {
   "codemirror_mode": {
    "name": "ipython",
    "version": 3
   },
   "file_extension": ".py",
   "mimetype": "text/x-python",
   "name": "python",
   "nbconvert_exporter": "python",
   "pygments_lexer": "ipython3",
   "version": "3.8.5"
  }
 },
 "nbformat": 4,
 "nbformat_minor": 4
}
